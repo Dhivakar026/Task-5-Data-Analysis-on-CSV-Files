{
 "cells": [
  {
   "cell_type": "code",
   "execution_count": 1,
   "id": "cf3b0837-9ee0-4dca-9724-8402756a489f",
   "metadata": {},
   "outputs": [
    {
     "name": "stdout",
     "output_type": "stream",
     "text": [
      "Created sales_data.csv — you can open it or replace with your CSV\n"
     ]
    },
    {
     "name": "stderr",
     "output_type": "stream",
     "text": [
      "C:\\Users\\Dhiva\\AppData\\Local\\Temp\\ipykernel_24980\\2410417639.py:4: FutureWarning: 'M' is deprecated and will be removed in a future version, please use 'ME' instead.\n",
      "  'Date': pd.date_range('2025-01-01', periods=6, freq='M'),\n"
     ]
    },
    {
     "data": {
      "text/html": [
       "<div>\n",
       "<style scoped>\n",
       "    .dataframe tbody tr th:only-of-type {\n",
       "        vertical-align: middle;\n",
       "    }\n",
       "\n",
       "    .dataframe tbody tr th {\n",
       "        vertical-align: top;\n",
       "    }\n",
       "\n",
       "    .dataframe thead th {\n",
       "        text-align: right;\n",
       "    }\n",
       "</style>\n",
       "<table border=\"1\" class=\"dataframe\">\n",
       "  <thead>\n",
       "    <tr style=\"text-align: right;\">\n",
       "      <th></th>\n",
       "      <th>Date</th>\n",
       "      <th>Product</th>\n",
       "      <th>Region</th>\n",
       "      <th>Quantity</th>\n",
       "      <th>UnitPrice</th>\n",
       "      <th>Sales</th>\n",
       "    </tr>\n",
       "  </thead>\n",
       "  <tbody>\n",
       "    <tr>\n",
       "      <th>0</th>\n",
       "      <td>2025-01-31</td>\n",
       "      <td>Apple</td>\n",
       "      <td>North</td>\n",
       "      <td>10</td>\n",
       "      <td>100</td>\n",
       "      <td>1000</td>\n",
       "    </tr>\n",
       "    <tr>\n",
       "      <th>1</th>\n",
       "      <td>2025-02-28</td>\n",
       "      <td>Banana</td>\n",
       "      <td>South</td>\n",
       "      <td>5</td>\n",
       "      <td>150</td>\n",
       "      <td>750</td>\n",
       "    </tr>\n",
       "    <tr>\n",
       "      <th>2</th>\n",
       "      <td>2025-03-31</td>\n",
       "      <td>Apple</td>\n",
       "      <td>East</td>\n",
       "      <td>7</td>\n",
       "      <td>100</td>\n",
       "      <td>700</td>\n",
       "    </tr>\n",
       "    <tr>\n",
       "      <th>3</th>\n",
       "      <td>2025-04-30</td>\n",
       "      <td>Carrot</td>\n",
       "      <td>West</td>\n",
       "      <td>8</td>\n",
       "      <td>200</td>\n",
       "      <td>1600</td>\n",
       "    </tr>\n",
       "    <tr>\n",
       "      <th>4</th>\n",
       "      <td>2025-05-31</td>\n",
       "      <td>Banana</td>\n",
       "      <td>North</td>\n",
       "      <td>6</td>\n",
       "      <td>150</td>\n",
       "      <td>900</td>\n",
       "    </tr>\n",
       "  </tbody>\n",
       "</table>\n",
       "</div>"
      ],
      "text/plain": [
       "        Date Product Region  Quantity  UnitPrice  Sales\n",
       "0 2025-01-31   Apple  North        10        100   1000\n",
       "1 2025-02-28  Banana  South         5        150    750\n",
       "2 2025-03-31   Apple   East         7        100    700\n",
       "3 2025-04-30  Carrot   West         8        200   1600\n",
       "4 2025-05-31  Banana  North         6        150    900"
      ]
     },
     "execution_count": 1,
     "metadata": {},
     "output_type": "execute_result"
    }
   ],
   "source": [
    "# Cell 1 — create sample CSV (optional)\n",
    "import pandas as pd\n",
    "sample = pd.DataFrame({\n",
    "    'Date': pd.date_range('2025-01-01', periods=6, freq='M'),\n",
    "    'Product': ['Apple','Banana','Apple','Carrot','Banana','Carrot'],\n",
    "    'Region': ['North','South','East','West','North','East'],\n",
    "    'Quantity': [10, 5, 7, 8, 6, 9],\n",
    "    'UnitPrice': [100, 150, 100, 200, 150, 200]\n",
    "})\n",
    "sample['Sales'] = sample['Quantity'] * sample['UnitPrice']\n",
    "sample.to_csv('sales_data.csv', index=False)\n",
    "print(\"Created sales_data.csv — you can open it or replace with your CSV\")\n",
    "sample.head()\n"
   ]
  },
  {
   "cell_type": "code",
   "execution_count": 2,
   "id": "237ffe53-d682-4ff6-ba49-2423740dd295",
   "metadata": {},
   "outputs": [
    {
     "data": {
      "text/plain": [
       "'C:\\\\Users\\\\Dhiva'"
      ]
     },
     "execution_count": 2,
     "metadata": {},
     "output_type": "execute_result"
    }
   ],
   "source": [
    "# Cell 2 — imports & settings\n",
    "import os\n",
    "import pandas as pd\n",
    "import matplotlib.pyplot as plt\n",
    "\n",
    "# Make plots show in the notebook\n",
    "%matplotlib inline\n",
    "\n",
    "# Helpful pandas display settings\n",
    "pd.options.display.max_columns = 50\n",
    "pd.options.display.float_format = '{:,.2f}'.format\n",
    "\n",
    "# Show current working dir (helps debug file paths)\n",
    "os.getcwd()\n"
   ]
  },
  {
   "cell_type": "code",
   "execution_count": 3,
   "id": "ed7770d0-62c4-47d0-bca1-8c3bd72dd641",
   "metadata": {},
   "outputs": [
    {
     "data": {
      "text/html": [
       "<div>\n",
       "<style scoped>\n",
       "    .dataframe tbody tr th:only-of-type {\n",
       "        vertical-align: middle;\n",
       "    }\n",
       "\n",
       "    .dataframe tbody tr th {\n",
       "        vertical-align: top;\n",
       "    }\n",
       "\n",
       "    .dataframe thead th {\n",
       "        text-align: right;\n",
       "    }\n",
       "</style>\n",
       "<table border=\"1\" class=\"dataframe\">\n",
       "  <thead>\n",
       "    <tr style=\"text-align: right;\">\n",
       "      <th></th>\n",
       "      <th>Date</th>\n",
       "      <th>Product</th>\n",
       "      <th>Region</th>\n",
       "      <th>Quantity</th>\n",
       "      <th>UnitPrice</th>\n",
       "      <th>Sales</th>\n",
       "    </tr>\n",
       "  </thead>\n",
       "  <tbody>\n",
       "    <tr>\n",
       "      <th>0</th>\n",
       "      <td>2025-01-31</td>\n",
       "      <td>Apple</td>\n",
       "      <td>North</td>\n",
       "      <td>10</td>\n",
       "      <td>100</td>\n",
       "      <td>1000</td>\n",
       "    </tr>\n",
       "    <tr>\n",
       "      <th>1</th>\n",
       "      <td>2025-02-28</td>\n",
       "      <td>Banana</td>\n",
       "      <td>South</td>\n",
       "      <td>5</td>\n",
       "      <td>150</td>\n",
       "      <td>750</td>\n",
       "    </tr>\n",
       "    <tr>\n",
       "      <th>2</th>\n",
       "      <td>2025-03-31</td>\n",
       "      <td>Apple</td>\n",
       "      <td>East</td>\n",
       "      <td>7</td>\n",
       "      <td>100</td>\n",
       "      <td>700</td>\n",
       "    </tr>\n",
       "    <tr>\n",
       "      <th>3</th>\n",
       "      <td>2025-04-30</td>\n",
       "      <td>Carrot</td>\n",
       "      <td>West</td>\n",
       "      <td>8</td>\n",
       "      <td>200</td>\n",
       "      <td>1600</td>\n",
       "    </tr>\n",
       "    <tr>\n",
       "      <th>4</th>\n",
       "      <td>2025-05-31</td>\n",
       "      <td>Banana</td>\n",
       "      <td>North</td>\n",
       "      <td>6</td>\n",
       "      <td>150</td>\n",
       "      <td>900</td>\n",
       "    </tr>\n",
       "  </tbody>\n",
       "</table>\n",
       "</div>"
      ],
      "text/plain": [
       "        Date Product Region  Quantity  UnitPrice  Sales\n",
       "0 2025-01-31   Apple  North        10        100   1000\n",
       "1 2025-02-28  Banana  South         5        150    750\n",
       "2 2025-03-31   Apple   East         7        100    700\n",
       "3 2025-04-30  Carrot   West         8        200   1600\n",
       "4 2025-05-31  Banana  North         6        150    900"
      ]
     },
     "execution_count": 3,
     "metadata": {},
     "output_type": "execute_result"
    }
   ],
   "source": [
    "# Cell 3 — load CSV\n",
    "df = pd.read_csv('sales_data.csv', parse_dates=['Date'], encoding='utf-8', dayfirst=False)\n",
    "df.head()\n"
   ]
  },
  {
   "cell_type": "code",
   "execution_count": 4,
   "id": "fe4b383f-b414-4580-97db-f7e828601127",
   "metadata": {},
   "outputs": [
    {
     "name": "stdout",
     "output_type": "stream",
     "text": [
      "<class 'pandas.core.frame.DataFrame'>\n",
      "RangeIndex: 6 entries, 0 to 5\n",
      "Data columns (total 6 columns):\n",
      " #   Column     Non-Null Count  Dtype         \n",
      "---  ------     --------------  -----         \n",
      " 0   Date       6 non-null      datetime64[ns]\n",
      " 1   Product    6 non-null      object        \n",
      " 2   Region     6 non-null      object        \n",
      " 3   Quantity   6 non-null      int64         \n",
      " 4   UnitPrice  6 non-null      int64         \n",
      " 5   Sales      6 non-null      int64         \n",
      "dtypes: datetime64[ns](1), int64(3), object(2)\n",
      "memory usage: 420.0+ bytes\n"
     ]
    },
    {
     "data": {
      "text/plain": [
       "Date         0\n",
       "Product      0\n",
       "Region       0\n",
       "Quantity     0\n",
       "UnitPrice    0\n",
       "Sales        0\n",
       "dtype: int64"
      ]
     },
     "execution_count": 4,
     "metadata": {},
     "output_type": "execute_result"
    }
   ],
   "source": [
    "# Cell 4 — inspect\n",
    "df.info()\n",
    "df.describe(include='all')\n",
    "df.isnull().sum()\n"
   ]
  },
  {
   "cell_type": "code",
   "execution_count": 5,
   "id": "a0c9d85c-72d0-4232-9d29-4f11e59260eb",
   "metadata": {},
   "outputs": [
    {
     "data": {
      "text/html": [
       "<div>\n",
       "<style scoped>\n",
       "    .dataframe tbody tr th:only-of-type {\n",
       "        vertical-align: middle;\n",
       "    }\n",
       "\n",
       "    .dataframe tbody tr th {\n",
       "        vertical-align: top;\n",
       "    }\n",
       "\n",
       "    .dataframe thead th {\n",
       "        text-align: right;\n",
       "    }\n",
       "</style>\n",
       "<table border=\"1\" class=\"dataframe\">\n",
       "  <thead>\n",
       "    <tr style=\"text-align: right;\">\n",
       "      <th></th>\n",
       "      <th>Date</th>\n",
       "      <th>Product</th>\n",
       "      <th>Region</th>\n",
       "      <th>Quantity</th>\n",
       "      <th>UnitPrice</th>\n",
       "      <th>Sales</th>\n",
       "    </tr>\n",
       "  </thead>\n",
       "  <tbody>\n",
       "    <tr>\n",
       "      <th>0</th>\n",
       "      <td>2025-01-31</td>\n",
       "      <td>Apple</td>\n",
       "      <td>North</td>\n",
       "      <td>10</td>\n",
       "      <td>100</td>\n",
       "      <td>1000</td>\n",
       "    </tr>\n",
       "    <tr>\n",
       "      <th>1</th>\n",
       "      <td>2025-02-28</td>\n",
       "      <td>Banana</td>\n",
       "      <td>South</td>\n",
       "      <td>5</td>\n",
       "      <td>150</td>\n",
       "      <td>750</td>\n",
       "    </tr>\n",
       "    <tr>\n",
       "      <th>2</th>\n",
       "      <td>2025-03-31</td>\n",
       "      <td>Apple</td>\n",
       "      <td>East</td>\n",
       "      <td>7</td>\n",
       "      <td>100</td>\n",
       "      <td>700</td>\n",
       "    </tr>\n",
       "    <tr>\n",
       "      <th>3</th>\n",
       "      <td>2025-04-30</td>\n",
       "      <td>Carrot</td>\n",
       "      <td>West</td>\n",
       "      <td>8</td>\n",
       "      <td>200</td>\n",
       "      <td>1600</td>\n",
       "    </tr>\n",
       "    <tr>\n",
       "      <th>4</th>\n",
       "      <td>2025-05-31</td>\n",
       "      <td>Banana</td>\n",
       "      <td>North</td>\n",
       "      <td>6</td>\n",
       "      <td>150</td>\n",
       "      <td>900</td>\n",
       "    </tr>\n",
       "  </tbody>\n",
       "</table>\n",
       "</div>"
      ],
      "text/plain": [
       "        Date Product Region  Quantity  UnitPrice  Sales\n",
       "0 2025-01-31   Apple  North        10        100   1000\n",
       "1 2025-02-28  Banana  South         5        150    750\n",
       "2 2025-03-31   Apple   East         7        100    700\n",
       "3 2025-04-30  Carrot   West         8        200   1600\n",
       "4 2025-05-31  Banana  North         6        150    900"
      ]
     },
     "execution_count": 5,
     "metadata": {},
     "output_type": "execute_result"
    }
   ],
   "source": [
    "# Cell 5 — compute Sales if not present\n",
    "if 'Sales' not in df.columns:\n",
    "    df['Sales'] = df['Quantity'] * df['UnitPrice']\n",
    "\n",
    "# Ensure Date is datetime\n",
    "df['Date'] = pd.to_datetime(df['Date'], errors='coerce')\n",
    "\n",
    "# Quick look\n",
    "df.head()\n"
   ]
  },
  {
   "cell_type": "code",
   "execution_count": 6,
   "id": "1eea3bfa-d74d-4176-8f85-a670cf203cb8",
   "metadata": {},
   "outputs": [
    {
     "data": {
      "text/plain": [
       "Product\n",
       "Carrot    3400\n",
       "Apple     1700\n",
       "Banana    1650\n",
       "Name: Sales, dtype: int64"
      ]
     },
     "execution_count": 6,
     "metadata": {},
     "output_type": "execute_result"
    }
   ],
   "source": [
    "# Cell 6 — total sales per product\n",
    "sales_per_product = df.groupby('Product')['Sales'].sum().sort_values(ascending=False)\n",
    "sales_per_product\n"
   ]
  },
  {
   "cell_type": "code",
   "execution_count": 7,
   "id": "b048274b-4ba7-4348-b843-b239f0c74335",
   "metadata": {},
   "outputs": [
    {
     "data": {
      "text/plain": [
       "Region\n",
       "East     2500\n",
       "North    1900\n",
       "West     1600\n",
       "South     750\n",
       "Name: Sales, dtype: int64"
      ]
     },
     "execution_count": 7,
     "metadata": {},
     "output_type": "execute_result"
    }
   ],
   "source": [
    "# Cell 7 — total sales per region\n",
    "sales_per_region = df.groupby('Region')['Sales'].sum().sort_values(ascending=False)\n",
    "sales_per_region\n"
   ]
  },
  {
   "cell_type": "code",
   "execution_count": 8,
   "id": "79cb2c8b-d710-413e-bba8-3c88336ee584",
   "metadata": {},
   "outputs": [
    {
     "name": "stderr",
     "output_type": "stream",
     "text": [
      "C:\\Users\\Dhiva\\AppData\\Local\\Temp\\ipykernel_24980\\1153027564.py:3: FutureWarning: 'M' is deprecated and will be removed in a future version, please use 'ME' instead.\n",
      "  monthly_resample = df.set_index('Date').resample('M')['Sales'].sum()\n"
     ]
    },
    {
     "data": {
      "text/plain": [
       "Month\n",
       "2025-01    1000\n",
       "2025-02     750\n",
       "2025-03     700\n",
       "2025-04    1600\n",
       "2025-05     900\n",
       "2025-06    1800\n",
       "Name: Sales, dtype: int64"
      ]
     },
     "execution_count": 8,
     "metadata": {},
     "output_type": "execute_result"
    }
   ],
   "source": [
    "# Cell 8 — monthly sales trend (2 ways)\n",
    "# Method A: resample (set Date index)\n",
    "monthly_resample = df.set_index('Date').resample('M')['Sales'].sum()\n",
    "monthly_resample\n",
    "\n",
    "# Method B: extract month label and group\n",
    "df['Month'] = df['Date'].dt.to_period('M').astype(str)\n",
    "monthly_group = df.groupby('Month')['Sales'].sum()\n",
    "monthly_group\n"
   ]
  },
  {
   "cell_type": "code",
   "execution_count": 9,
   "id": "3e449621-d823-40db-b43b-c1b07d9a2153",
   "metadata": {},
   "outputs": [
    {
     "data": {
      "text/html": [
       "<div>\n",
       "<style scoped>\n",
       "    .dataframe tbody tr th:only-of-type {\n",
       "        vertical-align: middle;\n",
       "    }\n",
       "\n",
       "    .dataframe tbody tr th {\n",
       "        vertical-align: top;\n",
       "    }\n",
       "\n",
       "    .dataframe thead th {\n",
       "        text-align: right;\n",
       "    }\n",
       "</style>\n",
       "<table border=\"1\" class=\"dataframe\">\n",
       "  <thead>\n",
       "    <tr style=\"text-align: right;\">\n",
       "      <th>Product</th>\n",
       "      <th>Apple</th>\n",
       "      <th>Banana</th>\n",
       "      <th>Carrot</th>\n",
       "    </tr>\n",
       "    <tr>\n",
       "      <th>Region</th>\n",
       "      <th></th>\n",
       "      <th></th>\n",
       "      <th></th>\n",
       "    </tr>\n",
       "  </thead>\n",
       "  <tbody>\n",
       "    <tr>\n",
       "      <th>East</th>\n",
       "      <td>700</td>\n",
       "      <td>0</td>\n",
       "      <td>1800</td>\n",
       "    </tr>\n",
       "    <tr>\n",
       "      <th>North</th>\n",
       "      <td>1000</td>\n",
       "      <td>900</td>\n",
       "      <td>0</td>\n",
       "    </tr>\n",
       "    <tr>\n",
       "      <th>South</th>\n",
       "      <td>0</td>\n",
       "      <td>750</td>\n",
       "      <td>0</td>\n",
       "    </tr>\n",
       "    <tr>\n",
       "      <th>West</th>\n",
       "      <td>0</td>\n",
       "      <td>0</td>\n",
       "      <td>1600</td>\n",
       "    </tr>\n",
       "  </tbody>\n",
       "</table>\n",
       "</div>"
      ],
      "text/plain": [
       "Product  Apple  Banana  Carrot\n",
       "Region                        \n",
       "East       700       0    1800\n",
       "North     1000     900       0\n",
       "South        0     750       0\n",
       "West         0       0    1600"
      ]
     },
     "execution_count": 9,
     "metadata": {},
     "output_type": "execute_result"
    }
   ],
   "source": [
    "# Cell 9 — sales by region and product (wide table)\n",
    "sales_region_product = df.groupby(['Region','Product'])['Sales'].sum().unstack(fill_value=0)\n",
    "sales_region_product\n"
   ]
  },
  {
   "cell_type": "code",
   "execution_count": 10,
   "id": "0101840e-a6e4-479a-bdad-7dd9b837a6a6",
   "metadata": {},
   "outputs": [
    {
     "data": {
      "image/png": "[encoded data removed]",
      "text/plain": [
       "<Figure size 1000x600 with 1 Axes>"
      ]
     },
     "metadata": {},
     "output_type": "display_data"
    }
   ],
   "source": [
    "# Cell 10 — bar chart: sales per product\n",
    "ax = sales_per_product.plot(kind='bar', figsize=(10,6))\n",
    "ax.set_title('Total Sales per Product')\n",
    "ax.set_xlabel('Product')\n",
    "ax.set_ylabel('Sales')\n",
    "plt.xticks(rotation=45)\n",
    "plt.tight_layout()\n",
    "plt.show()\n"
   ]
  },
  {
   "cell_type": "code",
   "execution_count": 12,
   "id": "3b4382ef-51fb-4e4a-b847-078460685ee4",
   "metadata": {},
   "outputs": [
    {
     "data": {
      "image/png": "[encoded data removed]",
      "text/plain": [
       "<Figure size 1200x500 with 1 Axes>"
      ]
     },
     "metadata": {},
     "output_type": "display_data"
    }
   ],
   "source": [
    "# Cell 11 — line chart: monthly sales trend\n",
    "ax = monthly_resample.plot(kind='line', marker='o', figsize=(12,5))\n",
    "ax.set_title('Monthly Sales Trend')\n",
    "ax.set_xlabel('Month')\n",
    "ax.set_ylabel('Sales')\n",
    "plt.grid(True)\n",
    "plt.tight_layout()\n",
    "plt.show()\n",
    "\n"
   ]
  },
  {
   "cell_type": "code",
   "execution_count": 15,
   "id": "0cea4d7c-54fa-4094-8163-ecb05787e6e1",
   "metadata": {},
   "outputs": [
    {
     "data": {
      "image/png": "[encoded data removed]",
      "text/plain": [
       "<Figure size 1200x600 with 1 Axes>"
      ]
     },
     "metadata": {},
     "output_type": "display_data"
    }
   ],
   "source": [
    "ax = sales_region_product.plot(kind='bar', stacked=True, figsize=(12,6))\n",
    "plt.title('Sales by Region and Product')\n",
    "plt.xlabel('Region')\n",
    "plt.ylabel('Sales')\n",
    "plt.legend(title='Product', bbox_to_anchor=(1.05,1), loc='upper left')\n",
    "plt.tight_layout()\n",
    "plt.show()\n"
   ]
  },
  {
   "cell_type": "code",
   "execution_count": 14,
   "id": "4d1e4147-5b66-4b3d-995d-539897b05860",
   "metadata": {},
   "outputs": [
    {
     "data": {
      "image/png": "[encoded data removed]",
      "text/plain": [
       "<Figure size 1000x600 with 1 Axes>"
      ]
     },
     "metadata": {},
     "output_type": "display_data"
    }
   ],
   "source": [
    "# Save a chart to file\n",
    "fig = sales_per_product.plot(kind='bar', figsize=(10,6)).get_figure()\n",
    "fig.savefig('sales_per_product.png', dpi=150, bbox_inches='tight')\n",
    "\n",
    "# Save grouped data to CSV\n",
    "sales_per_product.to_csv('sales_per_product_summary.csv')\n"
   ]
  },
  {
   "cell_type": "code",
   "execution_count": null,
   "id": "9e41a4b7-770d-4f7e-8270-081b6af69630",
   "metadata": {},
   "outputs": [],
   "source": []
  }
 ],
 "metadata": {
  "kernelspec": {
   "display_name": "Python 3 (ipykernel)",
   "language": "python",
   "name": "python3"
  },
  "language_info": {
   "codemirror_mode": {
    "name": "ipython",
    "version": 3
   },
   "file_extension": ".py",
   "mimetype": "text/x-python",
   "name": "python",
   "nbconvert_exporter": "python",
   "pygments_lexer": "ipython3",
   "version": "3.13.1"
  }
 },
 "nbformat": 4,
 "nbformat_minor": 5
}
